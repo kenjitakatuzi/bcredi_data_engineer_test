{
 "cells": [
  {
   "cell_type": "markdown",
   "metadata": {},
   "source": [
    "## BCREDI TECHNICAL TEST - DATA ENGINEER - CHALLENGE 2\n",
    "\n",
    "1. To answer the questions use cells between one question and another.\n",
    "\n",
    "2. To answer the questions, use the Keggle [Electoral Donations in Brazil](https://www.kaggle.com/felipeleiteantunes/electoral-donations-brazil2014) dataset\n",
    "\n",
    "3. The download has a zip file with several files, but we will only use the file: recipes_candidatos_2014_brasil_english.csv\n",
    "\n"
   ]
  },
  {
   "cell_type": "markdown",
   "metadata": {},
   "source": [
    "### 1. Print your name using Python"
   ]
  },
  {
   "cell_type": "code",
   "execution_count": null,
   "metadata": {},
   "outputs": [],
   "source": [
    "# Desenvolva a Resposta Aqui\n",
    "nome = \"Fabio Kenji Oshiro Takatuzi\"\n",
    "print(f\"Nome completo: {nome}\")\n",
    "print(\"Nome completo: {}\".format(nome))\n",
    "print(\"Nome completo:\", nome)"
   ]
  },
  {
   "cell_type": "markdown",
   "metadata": {},
   "source": [
    "### 2. Creating a new processed file\n",
    "\n",
    "1. File format: \"parquet\"\n",
    "2. Name \"doacoes_por_partido.parquet\"\n",
    "3. Columns:\n",
    "    - Party (Partido Eleitoral) \n",
    "    - State\n",
    "    - DonatedValue - Sum of donations value grouping party and state\n",
    "    - DonatedValuePerState - Sum of all donations grouping only the state\n",
    "    - Percentage - Ratio between the amount donated to each party and the total amount donated by the state\n",
    "\n",
    "\n",
    "\n",
    "#### Based on the information above build a Python code that processes the data in the file \"comes_candidatos_2014_brasil_english.csv \"and generates a new file with only the desired columns."
   ]
  },
  {
   "cell_type": "code",
   "execution_count": null,
   "metadata": {},
   "outputs": [],
   "source": [
    "# Obs: The first time the scripts for this solution are executed, it will be necessary to extract the \n",
    "# receitas_candidatos_2014_brasil_english.csv file that is compressed in a zip file\n",
    "\n",
    "import pandas as pd\n",
    "\n",
    "df = pd.read_csv('receitas_candidatos_2014_brasil_english.csv', low_memory=False)\n",
    "\n",
    "new_df = df[[\"cat_party\", \"cat_election_state\",\"num_donation_ammount\"]]\n",
    "valor_doado = new_df.groupby(['cat_election_state','cat_party']).num_donation_ammount.sum()\n",
    "\n",
    "df_valor_doado = pd.DataFrame(valor_doado.reset_index())\n",
    "df_valor_doado.rename(columns={'num_donation_ammount':'DonatedValue'}, inplace=True)\n",
    "df_valor_doado.head()\n",
    "\n",
    "new_df_est = df[[\"cat_election_state\",\"num_donation_ammount\"]]\n",
    "valor_doado_est = new_df_est.groupby(['cat_election_state']).num_donation_ammount.sum()\n",
    "df_valor_doado_est = pd.DataFrame(valor_doado_est.reset_index())\n",
    "df_valor_doado_est.rename(columns={'num_donation_ammount':'DonatedValuePerState'}, inplace=True)\n",
    "df_valor_doado_est.head()\n",
    "\n",
    "new_2 = pd.merge(df_valor_doado, df_valor_doado_est, how='inner', left_on='cat_election_state', right_on='cat_election_state')\n",
    "new_2['percentual'] = new_2.apply(lambda x: (x.DonatedValue/x.DonatedValuePerState)*100, axis = 1)\n",
    "new_2.rename(columns={'cat_election_state':'State', 'cat_party':'Party'}, inplace=True)\n",
    "\n",
    "new_2.to_parquet('doacoes_por_partido.parquet', engine='auto')"
   ]
  },
  {
   "cell_type": "code",
   "execution_count": null,
   "metadata": {},
   "outputs": [],
   "source": [
    "df_parquet = pd.read_parquet('doacoes_por_partido.parquet')\n",
    "df_parquet"
   ]
  },
  {
   "cell_type": "markdown",
   "metadata": {},
   "source": [
    "### 3. Programming logic\n",
    "\n",
    "A newly opened multinational brand decided to base its company logo on the three most common characters of the company name. They are now testing various combinations of company names and logos based on this condition.\n",
    "Given a string, which is the company name in lower case, your task is to find the first three most common characters in the string.\n",
    "\n",
    "    Print the three most common characters together with your occurrence count.\n",
    "    Sorts in descending order of occurrence count.\n",
    "    If the occurrence count is the same, sort the characters in alphabetical order.\n",
    "\n",
    "For example, according to the conditions described above,\n",
    "\n",
    "GOOGLE\n",
    "\n",
    "it would have its logo with the letters.\n",
    "\n",
    "GOE"
   ]
  },
  {
   "cell_type": "code",
   "execution_count": null,
   "metadata": {},
   "outputs": [],
   "source": [
    "def get_frequency(word):\n",
    "    frequency = {}\n",
    "    new = {}\n",
    "    for char in word:\n",
    "       if char in frequency: \n",
    "          frequency[char] += 1\n",
    "       else: \n",
    "          frequency[char] = 1\n",
    "    for x in sorted(frequency): new[x] = frequency[x]\n",
    "    return sorted(new, key=new.get, reverse=True)[0:3]\n"
   ]
  },
  {
   "cell_type": "markdown",
   "metadata": {},
   "source": [
    "#### Execute the fields below to validate the created function."
   ]
  },
  {
   "cell_type": "markdown",
   "metadata": {},
   "source": [
    "##### Input: 'aabbbccde' - Expected Output ['b','a','c']"
   ]
  },
  {
   "cell_type": "code",
   "execution_count": null,
   "metadata": {},
   "outputs": [],
   "source": [
    "print(get_frequency(\"aabbbccde\"))"
   ]
  },
  {
   "cell_type": "markdown",
   "metadata": {},
   "source": [
    "##### Input: 'bcredi' - Expected Output: ['b', 'c', 'd']:"
   ]
  },
  {
   "cell_type": "code",
   "execution_count": null,
   "metadata": {},
   "outputs": [],
   "source": [
    "print(get_frequency(\"bcredi\"))"
   ]
  },
  {
   "cell_type": "markdown",
   "metadata": {},
   "source": [
    "##### Input 'zzabbce' - Expected Output ['b', 'z', 'a']"
   ]
  },
  {
   "cell_type": "code",
   "execution_count": null,
   "metadata": {},
   "outputs": [],
   "source": [
    "print(get_frequency(\"zzabbce\"))"
   ]
  },
  {
   "cell_type": "markdown",
   "metadata": {},
   "source": [
    "### 4. Web Scraping"
   ]
  },
  {
   "cell_type": "markdown",
   "metadata": {},
   "source": [
    "- 4.1 Develop an algorithm capable of returning the values **of the highest and lowest lows of the day** on the São Paulo stock exchange. Data to be returned:\n",
    "    - Role name (ex: PETR4)\n",
    "    - Last value\n",
    "    - Variation\n",
    "- Data can be taken from websites\n",
    "    - [O Globo](https://oglobo.globo.com/economia/indicadores/)\n",
    "    - [Infomoney](https://www.infomoney.com.br/)\n",
    "    - [ADVFN](https://br.advfn.com/)"
   ]
  },
  {
   "cell_type": "code",
   "execution_count": null,
   "metadata": {},
   "outputs": [],
   "source": [
    "import pandas as pd\n",
    "import requests\n",
    "from bs4 import BeautifulSoup\n",
    "\n",
    "# Obs: sometimes this solution can present a problem because of the updated values and roles on the infomoney website.\n",
    "# To resolve this, just run again.\n",
    "# If the script is run on weekends, it is also possible that there are problems.\n",
    "\n",
    "\n",
    "# soup = BeautifulSoup(content, 'html.parser')\n",
    "# table = soup.findAll('table', {'id': 'high'})\n",
    "\n",
    "url = 'https://api.infomoney.com.br/ativos/top5-alta-baixa/4224?type=json'\n",
    "\n",
    "res = requests.get(url)\n",
    "res = res.json()"
   ]
  },
  {
   "cell_type": "code",
   "execution_count": null,
   "metadata": {},
   "outputs": [],
   "source": [
    "df = pd.DataFrame(res)\n",
    "# df.head()"
   ]
  },
  {
   "cell_type": "code",
   "execution_count": null,
   "metadata": {},
   "outputs": [],
   "source": [
    "print(\"Highest high of the day ---------------\\n\")\n",
    "print(\"Role Name: {}\\nLast Value: {}\\nVariation: {}\".format(df['high'][0]['StockCode'],\n",
    "                                                         df['high'][0]['VALOR'],\n",
    "                                                         df['high'][0]['OSCILACAO']))\n",
    "print(\"\\nLowest low of the day ---------------\\n\")\n",
    "print(\"Role Name: {}\\nLast Value: {}\\nVariation: {}\".format(df['low'][0]['StockCode'],\n",
    "                                                         df['low'][0]['VALOR'],\n",
    "                                                         df['low'][0]['OSCILACAO']))"
   ]
  },
  {
   "cell_type": "code",
   "execution_count": null,
   "metadata": {},
   "outputs": [],
   "source": []
  }
 ],
 "metadata": {
  "kernelspec": {
   "display_name": "Python 3",
   "language": "python",
   "name": "python3"
  },
  "language_info": {
   "codemirror_mode": {
    "name": "ipython",
    "version": 3
   },
   "file_extension": ".py",
   "mimetype": "text/x-python",
   "name": "python",
   "nbconvert_exporter": "python",
   "pygments_lexer": "ipython3",
   "version": "3.7.4"
  }
 },
 "nbformat": 4,
 "nbformat_minor": 2
}
